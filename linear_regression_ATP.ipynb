{
 "cells": [
  {
   "cell_type": "markdown",
   "metadata": {},
   "source": [
    "## Linear regression and multiple linear regression with Association of Tennis Professionals data"
   ]
  },
  {
   "cell_type": "markdown",
   "metadata": {},
   "source": [
    "Provided in tennis_stats.csv is data from the men’s professional tennis league, which is called the ATP (Association of Tennis Professionals). Data from the top 1500 ranked players in the ATP over the span of 2009 to 2017 are provided in file. The statistics recorded for each player in each year include service game (offensive) statistics, return game (defensive) statistics and outcomes."
   ]
  },
  {
   "cell_type": "markdown",
   "metadata": {},
   "source": [
    "The ATP men’s tennis dataset includes a wide array of tennis statistics, which are described below:<br> <br>\n",
    "\n",
    "**Identifying Data**<br>\n",
    "Player: name of the tennis player<br>\n",
    "Year: year data was recorded<br> <br>\n",
    "**Service Game Columns (Offensive)**<br>\n",
    "Aces: number of serves by the player where the receiver does not touch the ball<br>\n",
    "DoubleFaults: number of times player missed both first and second serve attempts<br>\n",
    "FirstServe: % of first-serve attempts made<br>\n",
    "FirstServePointsWon: % of first-serve attempt points won by the player<br>\n",
    "SecondServePointsWon: % of second-serve attempt points won by the player<br>\n",
    "BreakPointsFaced: number of times where the receiver could have won service game of the player<br>\n",
    "BreakPointsSaved: % of the time the player was able to stop the receiver from winning service game when they had the chance<br>\n",
    "ServiceGamesPlayed: total number of games where the player served<br>\n",
    "ServiceGamesWon: total number of games where the player served and won<br>\n",
    "TotalServicePointsWon: % of points in games where the player served that they won<br> <br>\n",
    "**Return Game Columns (Defensive)**<br>\n",
    "FirstServeReturnPointsWon: % of opponents first-serve points the player was able to win<br>\n",
    "SecondServeReturnPointsWon: % of opponents second-serve points the player was able to win<br>\n",
    "BreakPointsOpportunities: number of times where the player could have won the service game of the opponent<br>\n",
    "BreakPointsConverted: % of the time the player was able to win their opponent’s service game when they had the chance<br>\n",
    "ReturnGamesPlayed: total number of games where the player’s opponent served<br>\n",
    "ReturnGamesWon: total number of games where the player’s opponent served and the player won<br>\n",
    "ReturnPointsWon: total number of points where the player’s opponent served and the player won<br>\n",
    "TotalPointsWon: % of points won by the player<br> <br>\n",
    "**Outcomes**<br>\n",
    "Wins: number of matches won in a year<br>\n",
    "Losses: number of matches lost in a year<br>\n",
    "Winnings: total winnings in USD($) in a year<br>\n",
    "Ranking: ranking at the end of year<br>"
   ]
  },
  {
   "cell_type": "markdown",
   "metadata": {},
   "source": [
    "Perform exploratory analysis on the data by plotting different features against the different outcomes. What relationships do you find between the features and outcomes? Do any of the features seem to predict the outcomes?"
   ]
  },
  {
   "cell_type": "code",
   "execution_count": null,
   "metadata": {},
   "outputs": [],
   "source": []
  },
  {
   "cell_type": "markdown",
   "metadata": {},
   "source": [
    "Use one feature from the dataset to build a single feature linear regression model on the data. Your model, at this point, should use only one feature and predict one of the outcome columns. Before training the model, split your data into training and test datasets so that you can evaluate your model on the test set. How does your model perform? Plot your model’s predictions on the test set against the actual outcome variable to visualize the performance."
   ]
  },
  {
   "cell_type": "code",
   "execution_count": null,
   "metadata": {},
   "outputs": [],
   "source": []
  },
  {
   "cell_type": "markdown",
   "metadata": {},
   "source": [
    "Create a few more linear regression models that use one feature to predict one of the outcomes. Which model that you create is the best?"
   ]
  },
  {
   "cell_type": "code",
   "execution_count": null,
   "metadata": {},
   "outputs": [],
   "source": []
  },
  {
   "cell_type": "markdown",
   "metadata": {},
   "source": [
    "Create a few linear regression models that use two features to predict yearly earnings. Which set of two features results in the best model?"
   ]
  },
  {
   "cell_type": "code",
   "execution_count": null,
   "metadata": {},
   "outputs": [],
   "source": []
  },
  {
   "cell_type": "markdown",
   "metadata": {},
   "source": [
    "Create a few linear regression models that use multiple features to predict yearly earnings. Which set of features results in the best model?\n",
    "\n",
    "Head to the Codecademy forums and share your set of features that resulted in the highest test score for predicting your outcome. What features are most important for being a successful tennis player?"
   ]
  },
  {
   "cell_type": "code",
   "execution_count": null,
   "metadata": {},
   "outputs": [],
   "source": []
  }
 ],
 "metadata": {
  "kernelspec": {
   "display_name": "Python 3",
   "language": "python",
   "name": "python3"
  },
  "language_info": {
   "codemirror_mode": {
    "name": "ipython",
    "version": 3
   },
   "file_extension": ".py",
   "mimetype": "text/x-python",
   "name": "python",
   "nbconvert_exporter": "python",
   "pygments_lexer": "ipython3",
   "version": "3.7.6"
  }
 },
 "nbformat": 4,
 "nbformat_minor": 4
}
